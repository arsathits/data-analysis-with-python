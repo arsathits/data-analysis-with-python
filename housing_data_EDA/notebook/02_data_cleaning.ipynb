{
 "cells": [
  {
   "cell_type": "code",
   "execution_count": 5,
   "id": "79a867bf",
   "metadata": {},
   "outputs": [],
   "source": [
    "import pandas as pd\n",
    "import numpy as np\n",
    "from pathlib import Path\n",
    "import warnings\n",
    "warnings.filterwarnings(\"ignore\")\n",
    "\n",
    "#constants\n",
    "DATA_PATH = Path(\"../dataset/train.csv\")\n",
    "CLEANED_DATA_PATH = Path(\"../dataset/cleaned_train.csv\")"
   ]
  },
  {
   "cell_type": "code",
   "execution_count": 6,
   "id": "6b947d14",
   "metadata": {},
   "outputs": [
    {
     "name": "stdout",
     "output_type": "stream",
     "text": [
      "Loaded raw data: (1460, 81)\n"
     ]
    }
   ],
   "source": [
    "def load_raw_data():\n",
    "    \"\"\"Load raw data from CSV file.\"\"\"\n",
    "    df = pd.read_csv(DATA_PATH)\n",
    "    print(f\"Loaded raw data: {df.shape}\")\n",
    "    return df\n",
    "\n",
    "df_raw = load_raw_data()\n",
    "df = df_raw.copy()    "
   ]
  },
  {
   "cell_type": "code",
   "execution_count": 6,
   "id": "9df468c4",
   "metadata": {},
   "outputs": [
    {
     "name": "stdout",
     "output_type": "stream",
     "text": [
      "Missing values analysis:\n",
      "              missing_count  missing_percent missing_dtype\n",
      "PoolQC                 1453        99.520548        object\n",
      "MiscFeature            1406        96.301370        object\n",
      "Alley                  1369        93.767123        object\n",
      "Fence                  1179        80.753425        object\n",
      "MasVnrType              872        59.726027        object\n",
      "FireplaceQu             690        47.260274        object\n",
      "LotFrontage             259        17.739726       float64\n",
      "GarageType               81         5.547945        object\n",
      "GarageYrBlt              81         5.547945       float64\n",
      "GarageFinish             81         5.547945        object\n",
      "GarageQual               81         5.547945        object\n",
      "GarageCond               81         5.547945        object\n",
      "BsmtExposure             38         2.602740        object\n",
      "BsmtFinType2             38         2.602740        object\n",
      "BsmtQual                 37         2.534247        object\n",
      "BsmtCond                 37         2.534247        object\n",
      "BsmtFinType1             37         2.534247        object\n",
      "MasVnrArea                8         0.547945       float64\n",
      "Electrical                1         0.068493        object\n"
     ]
    }
   ],
   "source": [
    "def analyze_missing_values(df):\n",
    "    \"\"\"Analyze missing values in the DataFrame.\"\"\"\n",
    "    missing = df.isnull().sum()\n",
    "    missing_percent = (missing/len(df)) * 100\n",
    "\n",
    "    missing_df = pd.DataFrame({\n",
    "        'missing_count' : missing,\n",
    "        'missing_percent' : missing_percent,\n",
    "        'missing_dtype' : df.dtypes\n",
    "    })\n",
    "\n",
    "    missing_df = missing_df[missing_df['missing_count']>0].sort_values(by='missing_count', ascending=False)\n",
    "\n",
    "    return missing_df\n",
    "\n",
    "missing_values = analyze_missing_values(df)\n",
    "print(\"Missing values analysis:\")\n",
    "print(missing_values)"
   ]
  },
  {
   "cell_type": "code",
   "execution_count": 31,
   "id": "0ab646b8",
   "metadata": {},
   "outputs": [],
   "source": [
    "def handle_missing_values(df):\n",
    "    \"\"\"Handle missing values in the DataFrame.\"\"\"\n",
    "    \n",
    "    # Create a copy to avoid modifying original\n",
    "    df = df.copy()\n",
    "    \n",
    "    # LotFrontage → median per Neighborhood\n",
    "    if \"LotFrontage\" in df.columns:\n",
    "        df[\"LotFrontage\"] = df.groupby(\"Neighborhood\")[\"LotFrontage\"].transform(\n",
    "            lambda x: x.fillna(x.median())\n",
    "        )\n",
    "    \n",
    "    # Numerical → median\n",
    "    num_cols = df.select_dtypes(include=[np.number]).columns    \n",
    "    for col in num_cols:\n",
    "        if df[col].isnull().any():\n",
    "            df[col] = df[col].fillna(df[col].median())\n",
    "\n",
    "    # Absence categories → fill with 'NA'/'None'\n",
    "    absence_features = [\n",
    "    \"MasVnrType\",\"BsmtQual\",\"BsmtCond\",\"BsmtExposure\",\n",
    "    \"BsmtFinType1\",\"BsmtFinType2\",\"GarageType\",\"GarageFinish\",\n",
    "    \"GarageQual\",\"GarageCond\",\"FireplaceQu\",\n",
    "    \"PoolQC\",\"Fence\",\"Alley\",\"MiscFeature\"]\n",
    "    \n",
    "    for col in absence_features:\n",
    "        if col in df.columns:\n",
    "            fill_value = 'None' if col == \"MasVnrType\" else \"NA\"\n",
    "            df[col] = df[col].fillna(fill_value)  # Removed inplace=True\n",
    "\n",
    "    # Electrical → mode\n",
    "    if \"Electrical\" in df.columns and df['Electrical'].isnull().any():\n",
    "        df[\"Electrical\"] = df[\"Electrical\"].fillna(df[\"Electrical\"].mode()[0])  # Removed inplace=True\n",
    "\n",
    "    # Get all categorical columns as a set\n",
    "    all_cat_cols = set(df.select_dtypes(include=[\"object\"]).columns)\n",
    "    \n",
    "    # Remove already handled columns using set difference\n",
    "    remaining_cats = all_cat_cols - set(absence_features) - {\"Electrical\"}\n",
    "    \n",
    "    # Handle only the remaining categorical columns\n",
    "    for col in remaining_cats:\n",
    "        if df[col].isnull().any():\n",
    "            df[col] = df[col].fillna(df[col].mode()[0])\n",
    "    \n",
    "    return df"
   ]
  },
  {
   "cell_type": "code",
   "execution_count": 32,
   "id": "8d2fed9b",
   "metadata": {},
   "outputs": [
    {
     "data": {
      "text/plain": [
       "np.int64(0)"
      ]
     },
     "execution_count": 32,
     "metadata": {},
     "output_type": "execute_result"
    }
   ],
   "source": [
    "df = handle_missing_values(df)\n",
    "df.isnull().sum().sum()"
   ]
  },
  {
   "cell_type": "code",
   "execution_count": 9,
   "id": "aa894dea",
   "metadata": {},
   "outputs": [],
   "source": [
    "numeric_columns = ['LotFrontage', 'LotArea', 'MasVnrArea', 'GarageYrBlt']\n",
    "year_columns = ['YearBuilt', 'YearRemodAdd', 'GarageYrBlt', 'YrSold']\n",
    "def fix_datatypes(df):\n",
    "    \"\"\"Convert columns to appropriate datatypes\"\"\"\n",
    "    # Convert numeric columns that were read as object\n",
    "    for col in numeric_columns:\n",
    "        df[col] = pd.to_numeric(df[col], errors=\"coerce\")\n",
    "\n",
    "    #convert year columns to datetime\n",
    "    for col in year_columns:\n",
    "        df[col] = pd.to_datetime(df[col], format=\"%Y\", errors='coerce')\n",
    "    \n",
    "    return df"
   ]
  },
  {
   "cell_type": "code",
   "execution_count": 10,
   "id": "e4381251",
   "metadata": {},
   "outputs": [
    {
     "name": "stdout",
     "output_type": "stream",
     "text": [
      "\n",
      "Data Types After Conversion:\n",
      "LotFrontage            float64\n",
      "LotArea                  int64\n",
      "MasVnrArea             float64\n",
      "GarageYrBlt     datetime64[ns]\n",
      "YearBuilt       datetime64[ns]\n",
      "YearRemodAdd    datetime64[ns]\n",
      "GarageYrBlt     datetime64[ns]\n",
      "YrSold          datetime64[ns]\n",
      "dtype: object\n"
     ]
    }
   ],
   "source": [
    "# Apply data type fixes\n",
    "df = fix_datatypes(df)\n",
    "\n",
    "# Verify changes\n",
    "print(\"\\nData Types After Conversion:\")\n",
    "print(df[numeric_columns + year_columns].dtypes)"
   ]
  },
  {
   "cell_type": "code",
   "execution_count": null,
   "id": "bd19ad84",
   "metadata": {},
   "outputs": [],
   "source": []
  }
 ],
 "metadata": {
  "kernelspec": {
   "display_name": "Python 3",
   "language": "python",
   "name": "python3"
  },
  "language_info": {
   "codemirror_mode": {
    "name": "ipython",
    "version": 3
   },
   "file_extension": ".py",
   "mimetype": "text/x-python",
   "name": "python",
   "nbconvert_exporter": "python",
   "pygments_lexer": "ipython3",
   "version": "3.10.8"
  }
 },
 "nbformat": 4,
 "nbformat_minor": 5
}
