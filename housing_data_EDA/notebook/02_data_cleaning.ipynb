{
 "cells": [
  {
   "cell_type": "code",
   "execution_count": 1,
   "id": "79a867bf",
   "metadata": {},
   "outputs": [],
   "source": [
    "import pandas as pd\n",
    "import numpy as np\n",
    "from pathlib import Path\n",
    "import warnings\n",
    "warnings.filterwarnings(\"ignore\")\n",
    "\n",
    "#constants\n",
    "DATA_PATH = Path(\"../dataset/train.csv\")\n",
    "CLEANED_DATA_PATH = Path(\"../dataset/cleaned_train.csv\")"
   ]
  },
  {
   "cell_type": "code",
   "execution_count": null,
   "id": "6b947d14",
   "metadata": {},
   "outputs": [
    {
     "name": "stdout",
     "output_type": "stream",
     "text": [
      "Loaded raw data: (1460, 81)\n"
     ]
    }
   ],
   "source": [
    "def load_raw_data():\n",
    "    \"\"\"Load raw data from CSV file.\"\"\"\n",
    "    df = pd.read_csv(DATA_PATH)\n",
    "    print(f\"Loaded raw data: {df.shape}\")\n",
    "    return df\n",
    "\n",
    "df_raw = load_raw_data()\n",
    "df = df_raw.copy()    "
   ]
  },
  {
   "cell_type": "code",
   "execution_count": null,
   "id": "9df468c4",
   "metadata": {},
   "outputs": [],
   "source": []
  }
 ],
 "metadata": {
  "kernelspec": {
   "display_name": "Python 3",
   "language": "python",
   "name": "python3"
  },
  "language_info": {
   "codemirror_mode": {
    "name": "ipython",
    "version": 3
   },
   "file_extension": ".py",
   "mimetype": "text/x-python",
   "name": "python",
   "nbconvert_exporter": "python",
   "pygments_lexer": "ipython3",
   "version": "3.10.8"
  }
 },
 "nbformat": 4,
 "nbformat_minor": 5
}
