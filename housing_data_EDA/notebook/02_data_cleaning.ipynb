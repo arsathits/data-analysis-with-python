{
 "cells": [
  {
   "cell_type": "markdown",
   "id": "5aeb4eeb",
   "metadata": {},
   "source": [
    "# 🏠 Ames Housing Data Cleaning\n",
    "\n",
    "## ⚙️ 1. Setup & Constants\n"
   ]
  },
  {
   "cell_type": "code",
   "execution_count": null,
   "id": "79a867bf",
   "metadata": {},
   "outputs": [],
   "source": [
    "import pandas as pd\n",
    "from pathlib import Path\n",
    "\n",
    "#constants\n",
    "DATA_PATH = Path(\"../dataset/train.csv\")\n",
    "CLEANED_DATA_PATH = Path(\"../dataset/cleaned_train.csv\")"
   ]
  },
  {
   "cell_type": "markdown",
   "id": "edc5b5a1",
   "metadata": {},
   "source": [
    "## 📥 Load Raw Data"
   ]
  },
  {
   "cell_type": "code",
   "execution_count": 24,
   "id": "6b947d14",
   "metadata": {},
   "outputs": [
    {
     "name": "stdout",
     "output_type": "stream",
     "text": [
      "Loaded raw data: 1460 rows, 81 columns\n"
     ]
    }
   ],
   "source": [
    "def load_raw_data():\n",
    "    \"\"\"Load raw data from CSV file.\"\"\"\n",
    "    df = pd.read_csv(DATA_PATH)\n",
    "    print(f\"Loaded raw data: {df.shape[0]} rows, {df.shape[1]} columns\")\n",
    "    return df\n",
    "\n",
    "df_raw = load_raw_data()\n",
    "df = df_raw.copy()    "
   ]
  },
  {
   "cell_type": "markdown",
   "id": "64ae4e7a",
   "metadata": {},
   "source": [
    "## 🔍 Analyze Missing Values"
   ]
  },
  {
   "cell_type": "code",
   "execution_count": 25,
   "id": "9df468c4",
   "metadata": {},
   "outputs": [
    {
     "data": {
      "text/html": [
       "<div>\n",
       "<style scoped>\n",
       "    .dataframe tbody tr th:only-of-type {\n",
       "        vertical-align: middle;\n",
       "    }\n",
       "\n",
       "    .dataframe tbody tr th {\n",
       "        vertical-align: top;\n",
       "    }\n",
       "\n",
       "    .dataframe thead th {\n",
       "        text-align: right;\n",
       "    }\n",
       "</style>\n",
       "<table border=\"1\" class=\"dataframe\">\n",
       "  <thead>\n",
       "    <tr style=\"text-align: right;\">\n",
       "      <th></th>\n",
       "      <th>missing_count</th>\n",
       "      <th>missing_percent</th>\n",
       "      <th>missing_dtype</th>\n",
       "    </tr>\n",
       "  </thead>\n",
       "  <tbody>\n",
       "    <tr>\n",
       "      <th>PoolQC</th>\n",
       "      <td>1453</td>\n",
       "      <td>99.520548</td>\n",
       "      <td>object</td>\n",
       "    </tr>\n",
       "    <tr>\n",
       "      <th>MiscFeature</th>\n",
       "      <td>1406</td>\n",
       "      <td>96.301370</td>\n",
       "      <td>object</td>\n",
       "    </tr>\n",
       "    <tr>\n",
       "      <th>Alley</th>\n",
       "      <td>1369</td>\n",
       "      <td>93.767123</td>\n",
       "      <td>object</td>\n",
       "    </tr>\n",
       "    <tr>\n",
       "      <th>Fence</th>\n",
       "      <td>1179</td>\n",
       "      <td>80.753425</td>\n",
       "      <td>object</td>\n",
       "    </tr>\n",
       "    <tr>\n",
       "      <th>MasVnrType</th>\n",
       "      <td>872</td>\n",
       "      <td>59.726027</td>\n",
       "      <td>object</td>\n",
       "    </tr>\n",
       "    <tr>\n",
       "      <th>FireplaceQu</th>\n",
       "      <td>690</td>\n",
       "      <td>47.260274</td>\n",
       "      <td>object</td>\n",
       "    </tr>\n",
       "    <tr>\n",
       "      <th>LotFrontage</th>\n",
       "      <td>259</td>\n",
       "      <td>17.739726</td>\n",
       "      <td>float64</td>\n",
       "    </tr>\n",
       "    <tr>\n",
       "      <th>GarageType</th>\n",
       "      <td>81</td>\n",
       "      <td>5.547945</td>\n",
       "      <td>object</td>\n",
       "    </tr>\n",
       "    <tr>\n",
       "      <th>GarageYrBlt</th>\n",
       "      <td>81</td>\n",
       "      <td>5.547945</td>\n",
       "      <td>float64</td>\n",
       "    </tr>\n",
       "    <tr>\n",
       "      <th>GarageFinish</th>\n",
       "      <td>81</td>\n",
       "      <td>5.547945</td>\n",
       "      <td>object</td>\n",
       "    </tr>\n",
       "    <tr>\n",
       "      <th>GarageQual</th>\n",
       "      <td>81</td>\n",
       "      <td>5.547945</td>\n",
       "      <td>object</td>\n",
       "    </tr>\n",
       "    <tr>\n",
       "      <th>GarageCond</th>\n",
       "      <td>81</td>\n",
       "      <td>5.547945</td>\n",
       "      <td>object</td>\n",
       "    </tr>\n",
       "    <tr>\n",
       "      <th>BsmtExposure</th>\n",
       "      <td>38</td>\n",
       "      <td>2.602740</td>\n",
       "      <td>object</td>\n",
       "    </tr>\n",
       "    <tr>\n",
       "      <th>BsmtFinType2</th>\n",
       "      <td>38</td>\n",
       "      <td>2.602740</td>\n",
       "      <td>object</td>\n",
       "    </tr>\n",
       "    <tr>\n",
       "      <th>BsmtQual</th>\n",
       "      <td>37</td>\n",
       "      <td>2.534247</td>\n",
       "      <td>object</td>\n",
       "    </tr>\n",
       "  </tbody>\n",
       "</table>\n",
       "</div>"
      ],
      "text/plain": [
       "              missing_count  missing_percent missing_dtype\n",
       "PoolQC                 1453        99.520548        object\n",
       "MiscFeature            1406        96.301370        object\n",
       "Alley                  1369        93.767123        object\n",
       "Fence                  1179        80.753425        object\n",
       "MasVnrType              872        59.726027        object\n",
       "FireplaceQu             690        47.260274        object\n",
       "LotFrontage             259        17.739726       float64\n",
       "GarageType               81         5.547945        object\n",
       "GarageYrBlt              81         5.547945       float64\n",
       "GarageFinish             81         5.547945        object\n",
       "GarageQual               81         5.547945        object\n",
       "GarageCond               81         5.547945        object\n",
       "BsmtExposure             38         2.602740        object\n",
       "BsmtFinType2             38         2.602740        object\n",
       "BsmtQual                 37         2.534247        object"
      ]
     },
     "execution_count": 25,
     "metadata": {},
     "output_type": "execute_result"
    }
   ],
   "source": [
    "def analyze_missing_values(df):\n",
    "    \"\"\"Analyze missing values in the DataFrame.\"\"\"\n",
    "    missing = df.isnull().sum()\n",
    "    missing_percent = (missing/len(df)) * 100\n",
    "\n",
    "    missing_df = pd.DataFrame({\n",
    "        'missing_count' : missing,\n",
    "        'missing_percent' : missing_percent,\n",
    "        'missing_dtype' : df.dtypes\n",
    "    })\n",
    "\n",
    "    missing_df = missing_df[missing_df['missing_count']>0].sort_values(by='missing_percent', ascending=False)\n",
    "\n",
    "    return missing_df\n",
    "\n",
    "missing_values = analyze_missing_values(df)\n",
    "missing_values.head(15)"
   ]
  },
  {
   "cell_type": "markdown",
   "id": "23afa7c4",
   "metadata": {},
   "source": [
    "## 🧹 Handle Missing Values"
   ]
  },
  {
   "cell_type": "code",
   "execution_count": 26,
   "id": "0ab646b8",
   "metadata": {},
   "outputs": [],
   "source": [
    "def handle_missing_values(df):\n",
    "    \"\"\"Handle missing values in the DataFrame.\"\"\"\n",
    "    \n",
    "    # Create a copy to avoid modifying original\n",
    "    df = df.copy()\n",
    "    \n",
    "    # LotFrontage → median per Neighborhood\n",
    "    if \"LotFrontage\" in df.columns:\n",
    "        df[\"LotFrontage\"] = df.groupby(\"Neighborhood\")[\"LotFrontage\"].transform(\n",
    "            lambda x: x.fillna(x.median())\n",
    "        )\n",
    "    \n",
    "    # Numerical → median\n",
    "    num_cols = df.select_dtypes(include=[np.number]).columns    \n",
    "    for col in num_cols:\n",
    "        if df[col].isnull().any():\n",
    "            df[col] = df[col].fillna(df[col].median())\n",
    "\n",
    "    # Absence categories → fill with 'NA'/'None'\n",
    "    absence_fill = {\n",
    "        \"MasVnrType\": \"None\",\"BsmtQual\":\"NA\",\"BsmtCond\":\"NA\",\"BsmtExposure\":\"NA\",\n",
    "        \"BsmtFinType1\":\"NA\",\"BsmtFinType2\":\"NA\",\"GarageType\":\"NA\",\"GarageFinish\":\"NA\",\n",
    "        \"GarageQual\":\"NA\",\"GarageCond\":\"NA\",\"FireplaceQu\":\"NA\",\"PoolQC\":\"NA\",\"Fence\":\"NA\",\n",
    "        \"Alley\":\"NA\",\"MiscFeature\":\"NA\"\n",
    "    }\n",
    "    \n",
    "    for col, val in absence_fill.items():\n",
    "        if col in df.columns:\n",
    "            df[col] = df[col].fillna(val)\n",
    "\n",
    "    # Electrical → mode\n",
    "    if \"Electrical\" in df.columns and df['Electrical'].isnull().any():\n",
    "        df[\"Electrical\"] = df[\"Electrical\"].fillna(df[\"Electrical\"].mode()[0])  \n",
    "\n",
    "    # Get all categorical columns as a set\n",
    "    all_cat_cols = set(df.select_dtypes(include=[\"object\"]).columns)\n",
    "    \n",
    "    # Remove already handled columns using set difference\n",
    "    remaining_cats = all_cat_cols - set(absence_fill.keys()) - {\"Electrical\"}\n",
    "    \n",
    "    # Handle only the remaining categorical columns\n",
    "    for col in remaining_cats:\n",
    "        if df[col].isnull().any():\n",
    "            df[col] = df[col].fillna(df[col].mode()[0])\n",
    "    \n",
    "    return df"
   ]
  },
  {
   "cell_type": "markdown",
   "id": "e950157c",
   "metadata": {},
   "source": [
    "## 🛠️ Fix Data Types"
   ]
  },
  {
   "cell_type": "code",
   "execution_count": 27,
   "id": "aa894dea",
   "metadata": {},
   "outputs": [],
   "source": [
    "def fix_datatypes(df):\n",
    "    df = df.copy()\n",
    "    # Convert some columns to numeric if needed\n",
    "    numeric_columns = ['LotFrontage','LotArea','MasVnrArea','GarageYrBlt']\n",
    "    for col in numeric_columns:\n",
    "        if col in df.columns:\n",
    "            df[col] = pd.to_numeric(df[col], errors=\"coerce\")\n",
    "    # Keep year columns as integers\n",
    "    year_columns = ['YearBuilt','YearRemodAdd','GarageYrBlt','YrSold']\n",
    "    for col in year_columns:\n",
    "        if col in df.columns:\n",
    "            df[col] = df[col].astype('Int64')\n",
    "    return df"
   ]
  },
  {
   "cell_type": "markdown",
   "id": "fe656e0a",
   "metadata": {},
   "source": [
    "## ✂️ Handle Outliers"
   ]
  },
  {
   "cell_type": "code",
   "execution_count": 28,
   "id": "df2a5beb",
   "metadata": {},
   "outputs": [],
   "source": [
    "OUTLIER_COLUMNS = [\n",
    "    'LotFrontage', 'LotArea', 'MasVnrArea',\n",
    "    'BsmtFinSF1', 'BsmtFinSF2', 'TotalBsmtSF',\n",
    "    '1stFlrSF', '2ndFlrSF', 'GrLivArea',\n",
    "    'GarageArea', 'WoodDeckSF', 'OpenPorchSF',\n",
    "    'SalePrice'\n",
    "]\n",
    "\n",
    "COLUMN_THRESHOLDS = {\n",
    "    'LotArea': 2.5, 'SalePrice': 2.5, 'GrLivArea': 2.5, 'default': 3\n",
    "}\n",
    "\n",
    "def handle_outliers(df, columns=OUTLIER_COLUMNS, thresholds=COLUMN_THRESHOLDS, \n",
    "                    method='clip', analyze=False, verbose=True):\n",
    "    \n",
    "    df = df.copy()\n",
    "    outliers_info = {}\n",
    "\n",
    "    for col in columns:\n",
    "        if col not in df.columns:\n",
    "            continue\n",
    "\n",
    "        mean, std = df[col].mean(), df[col].std()\n",
    "        if std == 0:\n",
    "            continue\n",
    "        n_std = thresholds.get(col, thresholds['default'])\n",
    "        lower, upper = mean - n_std * std, mean + n_std * std\n",
    "\n",
    "        mask = (df[col] < lower) | (df[col] > upper)\n",
    "        outlier_count = mask.sum()\n",
    "\n",
    "        # store analysis\n",
    "        outliers_info[col] = {\n",
    "            \"count\": int(outlier_count),\n",
    "            \"percent\": round((outlier_count / len(df)) * 100, 2),\n",
    "            \"min\": df[col].min(),\n",
    "            \"max\": df[col].max(),\n",
    "            \"threshold_low\": lower,\n",
    "            \"threshold_high\": upper\n",
    "        }\n",
    "\n",
    "        # handle outliers\n",
    "        if method == 'clip':\n",
    "            df[col] = df[col].clip(lower, upper)\n",
    "        elif method == 'remove':\n",
    "            df = df.loc[~mask]\n",
    "\n",
    "        if verbose and outlier_count > 0:\n",
    "            print(f\"{col}: {outlier_count} outliers → handled with '{method}'\")\n",
    "\n",
    "    analysis_df = pd.DataFrame(outliers_info).T\n",
    "\n",
    "    return (df, analysis_df) if analyze else df\n"
   ]
  },
  {
   "cell_type": "markdown",
   "id": "2f03b547",
   "metadata": {},
   "source": [
    "## 📈 Transform Skewed Features"
   ]
  },
  {
   "cell_type": "code",
   "execution_count": 29,
   "id": "a44e37a0",
   "metadata": {},
   "outputs": [],
   "source": [
    "def transform_skewed(df, columns, skew_threshold=1):\n",
    "    df = df.copy()\n",
    "    skewness = df[columns].apply(lambda x: x.skew())\n",
    "    skewed_cols = skewness[skewness > skew_threshold].index.tolist()\n",
    "    for col in skewed_cols:\n",
    "        if (df[col] <= 0).any():\n",
    "            continue  # avoid issues with log1p if non-positive values exist\n",
    "        df[col] = np.log1p(df[col])\n",
    "        print(f\"{col}: skew {skewness[col]:.2f} → {df[col].skew():.2f}\")\n",
    "    return df, skewed_cols"
   ]
  },
  {
   "cell_type": "markdown",
   "id": "9a6fcc3a",
   "metadata": {},
   "source": [
    "## 💾 Save Cleaned Data"
   ]
  },
  {
   "cell_type": "code",
   "execution_count": 31,
   "id": "30fe6a36",
   "metadata": {},
   "outputs": [
    {
     "name": "stdout",
     "output_type": "stream",
     "text": [
      "Loaded raw data: 1460 rows, 81 columns\n",
      "LotArea: skew 2.25 → -0.80\n",
      "SalePrice: skew 1.01 → -0.08\n",
      "Final cleaned data: 1460 rows, 81 columns\n",
      "✅ Cleaned dataset saved to ..\\dataset\\cleaned_train.csv\n"
     ]
    }
   ],
   "source": [
    "# Load raw data\n",
    "df = load_raw_data()\n",
    "\n",
    "# Clean step by step\n",
    "df = handle_missing_values(df)\n",
    "df = fix_datatypes(df)\n",
    "df = handle_outliers(df, columns=OUTLIER_COLUMNS, thresholds=COLUMN_THRESHOLDS, method='clip', analyze=False, verbose=False)\n",
    "df, transformed_cols = transform_skewed(df, OUTLIER_COLUMNS)\n",
    "\n",
    "# Remove duplicates\n",
    "dupes = df.duplicated().sum()\n",
    "if dupes > 0:\n",
    "    print(f\"Dropped {dupes} duplicate rows\")\n",
    "    df = df.drop_duplicates()\n",
    "\n",
    "# Save cleaned data\n",
    "print(f\"Final cleaned data: {df.shape[0]} rows, {df.shape[1]} columns\")\n",
    "df.to_csv(CLEANED_DATA_PATH, index=False)\n",
    "print(f\"✅ Cleaned dataset saved to {CLEANED_DATA_PATH}\")"
   ]
  },
  {
   "cell_type": "markdown",
   "id": "e15cdef3",
   "metadata": {},
   "source": [
    "---\n",
    "## ✅ Cleaning Summary\n",
    "- Missing values handled (LotFrontage, categorical NA, numerical → median, Electrical → mode).\n",
    "- Data types fixed (years kept as integers).\n",
    "- Outliers clipped using z-scores with custom thresholds.\n",
    "- Skewed numeric features transformed (`log1p`).\n",
    "- Duplicates removed.\n",
    "- Final cleaned dataset exported for modeling.\n"
   ]
  }
 ],
 "metadata": {
  "kernelspec": {
   "display_name": "Python 3",
   "language": "python",
   "name": "python3"
  },
  "language_info": {
   "codemirror_mode": {
    "name": "ipython",
    "version": 3
   },
   "file_extension": ".py",
   "mimetype": "text/x-python",
   "name": "python",
   "nbconvert_exporter": "python",
   "pygments_lexer": "ipython3",
   "version": "3.10.8"
  }
 },
 "nbformat": 4,
 "nbformat_minor": 5
}
